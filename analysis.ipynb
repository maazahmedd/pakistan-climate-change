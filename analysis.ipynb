{
 "cells": [
  {
   "cell_type": "markdown",
   "metadata": {},
   "source": [
    "# pandas exploration\n",
    "In this assignment you will select a data set and do some munging and analysis of it using `pandas`, Jupyter Notebooks, and associated Python-centric data science tools."
   ]
  },
  {
   "cell_type": "markdown",
   "metadata": {},
   "source": [
    "Import the core data science libraries:"
   ]
  },
  {
   "cell_type": "code",
   "execution_count": 161,
   "metadata": {},
   "outputs": [],
   "source": [
    "%matplotlib inline\n",
    "import matplotlib.pyplot as plt\n",
    "import numpy as np\n",
    "import pandas as pd"
   ]
  },
  {
   "cell_type": "markdown",
   "metadata": {},
   "source": [
    "## Import the raw data\n",
    "In this section, you will import the raw data into a `pandas` DataFrame."
   ]
  },
  {
   "cell_type": "code",
   "execution_count": 162,
   "metadata": {},
   "outputs": [],
   "source": [
    "# place your code into this Code cell\n",
    "df=pd.read_csv('data/data.csv')"
   ]
  },
  {
   "cell_type": "markdown",
   "metadata": {},
   "source": [
    "## Data inspection\n",
    "In this section, you will show enough of your data for a viewer to get a general sense of how the data is structured and any unique features of it.  Complete each of the indicated tasks in a Code cell, making sure to include a Markdown cell above each Code cell that explains what is being shown by the code.  \n",
    "- Show 5 rows, selected at random, from the data set.\n",
    "- Show each of the column names and their data types.\n",
    "- Show any unique features of your chosen data set.\n",
    "\n",
    "Feel free to add as many additional cells as you need to help explain the raw data."
   ]
  },
  {
   "cell_type": "markdown",
   "metadata": {},
   "source": [
    "#### Command to show 5 random rows"
   ]
  },
  {
   "cell_type": "code",
   "execution_count": 163,
   "metadata": {},
   "outputs": [
    {
     "data": {
      "text/html": [
       "<div>\n",
       "<style scoped>\n",
       "    .dataframe tbody tr th:only-of-type {\n",
       "        vertical-align: middle;\n",
       "    }\n",
       "\n",
       "    .dataframe tbody tr th {\n",
       "        vertical-align: top;\n",
       "    }\n",
       "\n",
       "    .dataframe thead th {\n",
       "        text-align: right;\n",
       "    }\n",
       "</style>\n",
       "<table border=\"1\" class=\"dataframe\">\n",
       "  <thead>\n",
       "    <tr style=\"text-align: right;\">\n",
       "      <th></th>\n",
       "      <th>City_name</th>\n",
       "      <th>Range</th>\n",
       "      <th>January</th>\n",
       "      <th>February</th>\n",
       "      <th>March</th>\n",
       "      <th>April</th>\n",
       "      <th>May</th>\n",
       "      <th>June</th>\n",
       "      <th>July</th>\n",
       "      <th>August</th>\n",
       "      <th>September</th>\n",
       "      <th>October</th>\n",
       "      <th>November</th>\n",
       "      <th>December</th>\n",
       "    </tr>\n",
       "  </thead>\n",
       "  <tbody>\n",
       "    <tr>\n",
       "      <th>56</th>\n",
       "      <td>Khuzdar</td>\n",
       "      <td>low</td>\n",
       "      <td>3.2</td>\n",
       "      <td>5.0</td>\n",
       "      <td>10.7</td>\n",
       "      <td>16.5</td>\n",
       "      <td>21.3</td>\n",
       "      <td>24.5</td>\n",
       "      <td>24.3</td>\n",
       "      <td>23.2</td>\n",
       "      <td>20.1</td>\n",
       "      <td>13.9</td>\n",
       "      <td>8.4</td>\n",
       "      <td>4.5</td>\n",
       "    </tr>\n",
       "    <tr>\n",
       "      <th>64</th>\n",
       "      <td>Rawalakot</td>\n",
       "      <td>low</td>\n",
       "      <td>3.8</td>\n",
       "      <td>6.7</td>\n",
       "      <td>11.1</td>\n",
       "      <td>15.9</td>\n",
       "      <td>21.0</td>\n",
       "      <td>23.8</td>\n",
       "      <td>24.3</td>\n",
       "      <td>23.6</td>\n",
       "      <td>24.3</td>\n",
       "      <td>23.6</td>\n",
       "      <td>25.2</td>\n",
       "      <td>12.7</td>\n",
       "    </tr>\n",
       "    <tr>\n",
       "      <th>34</th>\n",
       "      <td>Memon Nagar</td>\n",
       "      <td>low</td>\n",
       "      <td>10.4</td>\n",
       "      <td>12.7</td>\n",
       "      <td>17.6</td>\n",
       "      <td>22.3</td>\n",
       "      <td>25.9</td>\n",
       "      <td>27.9</td>\n",
       "      <td>27.4</td>\n",
       "      <td>26.1</td>\n",
       "      <td>25.2</td>\n",
       "      <td>21.0</td>\n",
       "      <td>15.9</td>\n",
       "      <td>11.6</td>\n",
       "    </tr>\n",
       "    <tr>\n",
       "      <th>11</th>\n",
       "      <td>Balakot</td>\n",
       "      <td>high</td>\n",
       "      <td>13.2</td>\n",
       "      <td>15.2</td>\n",
       "      <td>19.3</td>\n",
       "      <td>25.9</td>\n",
       "      <td>31.3</td>\n",
       "      <td>35.5</td>\n",
       "      <td>32.3</td>\n",
       "      <td>31.2</td>\n",
       "      <td>31.0</td>\n",
       "      <td>27.0</td>\n",
       "      <td>22.2</td>\n",
       "      <td>15.9</td>\n",
       "    </tr>\n",
       "    <tr>\n",
       "      <th>31</th>\n",
       "      <td>Haripur</td>\n",
       "      <td>high</td>\n",
       "      <td>16.3</td>\n",
       "      <td>18.3</td>\n",
       "      <td>23.4</td>\n",
       "      <td>29.3</td>\n",
       "      <td>34.9</td>\n",
       "      <td>37.9</td>\n",
       "      <td>36.8</td>\n",
       "      <td>34.3</td>\n",
       "      <td>32.7</td>\n",
       "      <td>28.9</td>\n",
       "      <td>23.5</td>\n",
       "      <td>19.0</td>\n",
       "    </tr>\n",
       "  </tbody>\n",
       "</table>\n",
       "</div>"
      ],
      "text/plain": [
       "      City_name Range  January  February  March  April   May  June  July  \\\n",
       "56      Khuzdar   low      3.2       5.0   10.7   16.5  21.3  24.5  24.3   \n",
       "64    Rawalakot   low      3.8       6.7   11.1   15.9  21.0  23.8  24.3   \n",
       "34  Memon Nagar   low     10.4      12.7   17.6   22.3  25.9  27.9  27.4   \n",
       "11      Balakot  high     13.2      15.2   19.3   25.9  31.3  35.5  32.3   \n",
       "31      Haripur  high     16.3      18.3   23.4   29.3  34.9  37.9  36.8   \n",
       "\n",
       "    August  September  October  November  December  \n",
       "56    23.2       20.1     13.9       8.4       4.5  \n",
       "64    23.6       24.3     23.6      25.2      12.7  \n",
       "34    26.1       25.2     21.0      15.9      11.6  \n",
       "11    31.2       31.0     27.0      22.2      15.9  \n",
       "31    34.3       32.7     28.9      23.5      19.0  "
      ]
     },
     "execution_count": 163,
     "metadata": {},
     "output_type": "execute_result"
    }
   ],
   "source": [
    "df.sample(5)"
   ]
  },
  {
   "cell_type": "markdown",
   "metadata": {},
   "source": [
    "#### Command to show each column name and their data types"
   ]
  },
  {
   "cell_type": "code",
   "execution_count": 164,
   "metadata": {},
   "outputs": [
    {
     "data": {
      "text/plain": [
       "City_name     object\n",
       "Range         object\n",
       "January      float64\n",
       "February     float64\n",
       "March        float64\n",
       "April        float64\n",
       "May          float64\n",
       "June         float64\n",
       "July         float64\n",
       "August       float64\n",
       "September    float64\n",
       "October      float64\n",
       "November     float64\n",
       "December     float64\n",
       "dtype: object"
      ]
     },
     "execution_count": 164,
     "metadata": {},
     "output_type": "execute_result"
    }
   ],
   "source": [
    "df.dtypes"
   ]
  },
  {
   "cell_type": "markdown",
   "metadata": {},
   "source": [
    "#### Command to show any unique features of the chosen data set\n",
    "This dataset shows the average highest and lowest temperatures (celcius) for cities in Pakistan for each month. The following command shows the rows for average highest and lowest temperatures for each month for the city of Karachi."
   ]
  },
  {
   "cell_type": "code",
   "execution_count": 165,
   "metadata": {},
   "outputs": [
    {
     "data": {
      "text/html": [
       "<div>\n",
       "<style scoped>\n",
       "    .dataframe tbody tr th:only-of-type {\n",
       "        vertical-align: middle;\n",
       "    }\n",
       "\n",
       "    .dataframe tbody tr th {\n",
       "        vertical-align: top;\n",
       "    }\n",
       "\n",
       "    .dataframe thead th {\n",
       "        text-align: right;\n",
       "    }\n",
       "</style>\n",
       "<table border=\"1\" class=\"dataframe\">\n",
       "  <thead>\n",
       "    <tr style=\"text-align: right;\">\n",
       "      <th></th>\n",
       "      <th>City_name</th>\n",
       "      <th>Range</th>\n",
       "      <th>January</th>\n",
       "      <th>February</th>\n",
       "      <th>March</th>\n",
       "      <th>April</th>\n",
       "      <th>May</th>\n",
       "      <th>June</th>\n",
       "      <th>July</th>\n",
       "      <th>August</th>\n",
       "      <th>September</th>\n",
       "      <th>October</th>\n",
       "      <th>November</th>\n",
       "      <th>December</th>\n",
       "    </tr>\n",
       "  </thead>\n",
       "  <tbody>\n",
       "    <tr>\n",
       "      <th>54</th>\n",
       "      <td>Karachi</td>\n",
       "      <td>low</td>\n",
       "      <td>10.4</td>\n",
       "      <td>12.7</td>\n",
       "      <td>17.6</td>\n",
       "      <td>22.3</td>\n",
       "      <td>25.9</td>\n",
       "      <td>27.9</td>\n",
       "      <td>27.4</td>\n",
       "      <td>26.1</td>\n",
       "      <td>25.2</td>\n",
       "      <td>21.0</td>\n",
       "      <td>15.9</td>\n",
       "      <td>11.6</td>\n",
       "    </tr>\n",
       "    <tr>\n",
       "      <th>55</th>\n",
       "      <td>Karachi</td>\n",
       "      <td>high</td>\n",
       "      <td>25.8</td>\n",
       "      <td>27.7</td>\n",
       "      <td>31.5</td>\n",
       "      <td>34.3</td>\n",
       "      <td>35.2</td>\n",
       "      <td>34.8</td>\n",
       "      <td>33.1</td>\n",
       "      <td>31.7</td>\n",
       "      <td>32.6</td>\n",
       "      <td>34.7</td>\n",
       "      <td>31.9</td>\n",
       "      <td>27.4</td>\n",
       "    </tr>\n",
       "  </tbody>\n",
       "</table>\n",
       "</div>"
      ],
      "text/plain": [
       "   City_name Range  January  February  March  April   May  June  July  August  \\\n",
       "54   Karachi   low     10.4      12.7   17.6   22.3  25.9  27.9  27.4    26.1   \n",
       "55   Karachi  high     25.8      27.7   31.5   34.3  35.2  34.8  33.1    31.7   \n",
       "\n",
       "    September  October  November  December  \n",
       "54       25.2     21.0      15.9      11.6  \n",
       "55       32.6     34.7      31.9      27.4  "
      ]
     },
     "execution_count": 165,
     "metadata": {},
     "output_type": "execute_result"
    }
   ],
   "source": [
    "d1= df.loc[df['City_name']=='Karachi']\n",
    "d1"
   ]
  },
  {
   "cell_type": "markdown",
   "metadata": {},
   "source": [
    "## Data munging\n",
    "Place your **data munging** code and documentation within this section.  \n",
    "- Keep each of your Code cells short and focused on a single task.  \n",
    "- Include a Markdown cell above each code cell that describes what task the code within the code cell is performing.\n",
    "- Make as many code cells as you need to complete the munging - a few have been created for you to start with.\n",
    "- Display 5 sample rows of the modified data after each transformation so a viewer can see how the data has changed.\n",
    "\n",
    "**Note**: If you believe that your data set does not require any munging, please explain in detail.  Create Markdown cells that explain your thinking and create Code cells that show any specific structures of the data you refer to in your explanation."
   ]
  },
  {
   "cell_type": "markdown",
   "metadata": {},
   "source": [
    "#### Print the number of missing data fields in every column"
   ]
  },
  {
   "cell_type": "code",
   "execution_count": 166,
   "metadata": {},
   "outputs": [
    {
     "data": {
      "text/plain": [
       "City_name    0\n",
       "Range        0\n",
       "January      0\n",
       "February     0\n",
       "March        0\n",
       "April        0\n",
       "May          0\n",
       "June         0\n",
       "July         0\n",
       "August       0\n",
       "September    0\n",
       "October      0\n",
       "November     0\n",
       "December     0\n",
       "dtype: int64"
      ]
     },
     "execution_count": 166,
     "metadata": {},
     "output_type": "execute_result"
    }
   ],
   "source": [
    "df.isnull().sum()"
   ]
  },
  {
   "cell_type": "markdown",
   "metadata": {},
   "source": [
    "There are no missing fields in any of the columns and we will probably need all columns for our analysis, so no further munging is required."
   ]
  },
  {
   "cell_type": "markdown",
   "metadata": {},
   "source": [
    "## Data analysis\n",
    "Place your **data analysis** code and documentation within this section.\n",
    "- Perform at least 5 different statistical or other analyses of different aspects of the data.\n",
    "    - Your analyses must be specific and relevant to your chosen data set and show interesting aspects of it.\n",
    "    - Include at least one analysis that includes grouping rows by a shared attribute and performing some kind of statistical analysis on each group.\n",
    "    - Sort the data in at least 1 of your analyses, but sort on its own does not constitute an analysis on its own.\n",
    "- Keep each of your Code cells short and focused on a single task.\n",
    "- Include a Markdown cell above each Code cell that describes what task the code within the Code cell is performing.\n",
    "- Make as many code cells as you need to complete the analysis - a few have been created for you to start with."
   ]
  },
  {
   "cell_type": "markdown",
   "metadata": {},
   "source": [
    "#### Mean highest average temperature for all cities in Pakistan for the month of January"
   ]
  },
  {
   "cell_type": "code",
   "execution_count": 167,
   "metadata": {},
   "outputs": [
    {
     "data": {
      "text/plain": [
       "17.723404255319146"
      ]
     },
     "execution_count": 167,
     "metadata": {},
     "output_type": "execute_result"
    }
   ],
   "source": [
    "(df[(df['Range']=='high')])['January'].mean()"
   ]
  },
  {
   "cell_type": "markdown",
   "metadata": {},
   "source": [
    "#### Median lowest average temperature for all cities in Pakistan for the month of December"
   ]
  },
  {
   "cell_type": "code",
   "execution_count": 375,
   "metadata": {},
   "outputs": [
    {
     "data": {
      "text/plain": [
       "9.0"
      ]
     },
     "execution_count": 375,
     "metadata": {},
     "output_type": "execute_result"
    }
   ],
   "source": [
    "(df[(df['Range']=='low')])['December'].median()"
   ]
  },
  {
   "cell_type": "markdown",
   "metadata": {},
   "source": [
    "#### Mean highest and lowest temperatures for each of the months for all cities in Pakistan"
   ]
  },
  {
   "cell_type": "code",
   "execution_count": 169,
   "metadata": {},
   "outputs": [
    {
     "data": {
      "text/html": [
       "<div>\n",
       "<style scoped>\n",
       "    .dataframe tbody tr th:only-of-type {\n",
       "        vertical-align: middle;\n",
       "    }\n",
       "\n",
       "    .dataframe tbody tr th {\n",
       "        vertical-align: top;\n",
       "    }\n",
       "\n",
       "    .dataframe thead th {\n",
       "        text-align: right;\n",
       "    }\n",
       "</style>\n",
       "<table border=\"1\" class=\"dataframe\">\n",
       "  <thead>\n",
       "    <tr style=\"text-align: right;\">\n",
       "      <th></th>\n",
       "      <th>January</th>\n",
       "      <th>February</th>\n",
       "      <th>March</th>\n",
       "      <th>April</th>\n",
       "      <th>May</th>\n",
       "      <th>June</th>\n",
       "      <th>July</th>\n",
       "      <th>August</th>\n",
       "      <th>September</th>\n",
       "      <th>October</th>\n",
       "      <th>November</th>\n",
       "      <th>December</th>\n",
       "    </tr>\n",
       "    <tr>\n",
       "      <th>Range</th>\n",
       "      <th></th>\n",
       "      <th></th>\n",
       "      <th></th>\n",
       "      <th></th>\n",
       "      <th></th>\n",
       "      <th></th>\n",
       "      <th></th>\n",
       "      <th></th>\n",
       "      <th></th>\n",
       "      <th></th>\n",
       "      <th></th>\n",
       "      <th></th>\n",
       "    </tr>\n",
       "  </thead>\n",
       "  <tbody>\n",
       "    <tr>\n",
       "      <th>high</th>\n",
       "      <td>17.723404</td>\n",
       "      <td>19.748936</td>\n",
       "      <td>24.440426</td>\n",
       "      <td>30.265957</td>\n",
       "      <td>35.412766</td>\n",
       "      <td>37.291489</td>\n",
       "      <td>35.644681</td>\n",
       "      <td>33.763830</td>\n",
       "      <td>32.874468</td>\n",
       "      <td>30.695745</td>\n",
       "      <td>24.795745</td>\n",
       "      <td>20.423404</td>\n",
       "    </tr>\n",
       "    <tr>\n",
       "      <th>low</th>\n",
       "      <td>6.534043</td>\n",
       "      <td>8.534043</td>\n",
       "      <td>12.987234</td>\n",
       "      <td>18.472340</td>\n",
       "      <td>23.014894</td>\n",
       "      <td>25.776596</td>\n",
       "      <td>26.244681</td>\n",
       "      <td>25.140426</td>\n",
       "      <td>22.587234</td>\n",
       "      <td>18.191489</td>\n",
       "      <td>13.010638</td>\n",
       "      <td>8.497872</td>\n",
       "    </tr>\n",
       "  </tbody>\n",
       "</table>\n",
       "</div>"
      ],
      "text/plain": [
       "         January   February      March      April        May       June  \\\n",
       "Range                                                                     \n",
       "high   17.723404  19.748936  24.440426  30.265957  35.412766  37.291489   \n",
       "low     6.534043   8.534043  12.987234  18.472340  23.014894  25.776596   \n",
       "\n",
       "            July     August  September    October   November   December  \n",
       "Range                                                                    \n",
       "high   35.644681  33.763830  32.874468  30.695745  24.795745  20.423404  \n",
       "low    26.244681  25.140426  22.587234  18.191489  13.010638   8.497872  "
      ]
     },
     "execution_count": 169,
     "metadata": {},
     "output_type": "execute_result"
    }
   ],
   "source": [
    "(df.groupby('Range').mean())"
   ]
  },
  {
   "cell_type": "markdown",
   "metadata": {},
   "source": [
    "#### Range (difference between highest and lowest) of average temperatures for each city in the month of October"
   ]
  },
  {
   "cell_type": "code",
   "execution_count": 170,
   "metadata": {},
   "outputs": [
    {
     "data": {
      "text/plain": [
       "City_name\n",
       "Abbottabad           3.8\n",
       "Adamke Cheema       15.0\n",
       "Arandu               8.8\n",
       "Astore              12.9\n",
       "Badin               11.5\n",
       "Bahawalngar         12.7\n",
       "Balakot             15.7\n",
       "Barkhan              9.8\n",
       "Chawinda            12.7\n",
       "Chenab Nagar        12.0\n",
       "Chiniot             12.0\n",
       "Chunian             12.7\n",
       "Dalbandin           12.1\n",
       "Drosh                7.6\n",
       "Faisalabad          12.9\n",
       "Gaddani              4.0\n",
       "Gilgit              19.3\n",
       "Gujranwala          13.7\n",
       "Gwadar               2.8\n",
       "Harchoke            13.8\n",
       "Haripur             11.6\n",
       "Hyderabad           14.9\n",
       "Islamabad           15.0\n",
       "Jhelum              12.5\n",
       "Karachi             13.7\n",
       "Khuzdar             16.0\n",
       "Lahore              14.7\n",
       "Larkana             14.2\n",
       "Memon Nagar         13.7\n",
       "Multan              13.7\n",
       "Naushahro Feroze    19.0\n",
       "Nok Kundi           17.4\n",
       "Ormara               3.9\n",
       "Panjgur             17.1\n",
       "Parachinar           9.2\n",
       "Pasni                0.0\n",
       "Peshawar            10.2\n",
       "Rawalakot            9.9\n",
       "Rawlpindi           16.4\n",
       "Sargodha            12.0\n",
       "Sialkot             12.7\n",
       "Sibi                17.7\n",
       "Skardu              15.0\n",
       "Tando Allahyar      10.6\n",
       "Tarlai Kalan        17.0\n",
       "Wadala Sandhuan     12.8\n",
       "Zhob                21.0\n",
       "Name: October, dtype: float64"
      ]
     },
     "execution_count": 170,
     "metadata": {},
     "output_type": "execute_result"
    }
   ],
   "source": [
    "df_avg=(df.groupby('City_name'))['October']\n",
    "dmin=df_avg.min()\n",
    "dmax=df_avg.max()\n",
    "dmax-dmin"
   ]
  },
  {
   "cell_type": "markdown",
   "metadata": {},
   "source": [
    "#### Mean average temperature for the month of March groubed by cities, then show the top 20 cities with the highest average temperatures in the month of March"
   ]
  },
  {
   "cell_type": "code",
   "execution_count": 384,
   "metadata": {},
   "outputs": [
    {
     "data": {
      "text/plain": [
       "City_name\n",
       "Badin               29.05\n",
       "Larkana             27.40\n",
       "Hyderabad           26.20\n",
       "Ormara              25.20\n",
       "Gwadar              24.95\n",
       "Karachi             24.55\n",
       "Memon Nagar         24.55\n",
       "Gaddani             24.10\n",
       "Pasni               24.00\n",
       "Bahawalngar         24.00\n",
       "Tando Allahyar      23.90\n",
       "Harchoke            23.10\n",
       "Naushahro Feroze    23.10\n",
       "Sibi                22.95\n",
       "Faisalabad          22.20\n",
       "Chunian             22.15\n",
       "Sargodha            21.60\n",
       "Chiniot             21.50\n",
       "Chenab Nagar        21.50\n",
       "Jhelum              21.20\n",
       "Name: March, dtype: float64"
      ]
     },
     "execution_count": 384,
     "metadata": {},
     "output_type": "execute_result"
    }
   ],
   "source": [
    "(df.groupby('City_name').mean())['March'].sort_values(ascending=False).head(20)"
   ]
  },
  {
   "cell_type": "markdown",
   "metadata": {},
   "source": [
    "## Data visualization\n",
    "In this section, you will create a few **visualizations** that show some of the insights you have gathered from this data.\n",
    "- Create at least 5 different visualizations, where each visualization shows different insights into the data.\n",
    "- Use at least 3 different visualization types (e.g. bar charts, line charts, stacked area charts, pie charts, etc)\n",
    "- Create a Markdown cell and a Code cell for each, where you explain and show the visualizations, respectively.\n",
    "- Create as many additional cells as you need to prepare the data for the visualizations."
   ]
  },
  {
   "cell_type": "markdown",
   "metadata": {},
   "source": [
    "#### Bar chart showing the average highest temperatures for each month in the capital of the country, Islamabad"
   ]
  },
  {
   "cell_type": "code",
   "execution_count": 385,
   "metadata": {},
   "outputs": [
    {
     "data": {
      "text/plain": [
       "Text(0.5, 0, '')"
      ]
     },
     "execution_count": 385,
     "metadata": {},
     "output_type": "execute_result"
    },
    {
     "data": {
      "image/png": "[encoded data removed]",
      "text/plain": [
       "<Figure size 864x576 with 1 Axes>"
      ]
     },
     "metadata": {
      "needs_background": "light"
     },
     "output_type": "display_data"
    }
   ],
   "source": [
    "(df[(df['City_name']=='Islamabad') & (df['Range']=='high')]).plot.bar(x='City_name', figsize=(12, 8))\n",
    "plt.xlabel(\"\")"
   ]
  },
  {
   "cell_type": "markdown",
   "metadata": {},
   "source": [
    "#### Box plot showing the average distribution of highest temperatures of each month for the entire country"
   ]
  },
  {
   "cell_type": "code",
   "execution_count": 386,
   "metadata": {},
   "outputs": [
    {
     "data": {
      "text/plain": [
       "Text(0, 0.5, 'Temperature (celsius)')"
      ]
     },
     "execution_count": 386,
     "metadata": {},
     "output_type": "execute_result"
    },
    {
     "data": {
      "image/png": "[encoded data removed]",
      "text/plain": [
       "<Figure size 864x576 with 1 Axes>"
      ]
     },
     "metadata": {
      "needs_background": "light"
     },
     "output_type": "display_data"
    }
   ],
   "source": [
    "(df[(df['Range']=='high')]).plot.box(figsize=(12, 8))\n",
    "plt.xlabel(\"Month\")\n",
    "plt.ylabel(\"Temperature (celsius)\")"
   ]
  },
  {
   "cell_type": "markdown",
   "metadata": {},
   "source": [
    "#### Horizontal bar chart comparing the lowest temperature of the hottest city (Sibi) and the coldest city (Gilgit) for the hottest month (June) and the coldest month (January)"
   ]
  },
  {
   "cell_type": "code",
   "execution_count": 387,
   "metadata": {},
   "outputs": [
    {
     "data": {
      "text/plain": [
       "Text(0, 0.5, 'City')"
      ]
     },
     "execution_count": 387,
     "metadata": {},
     "output_type": "execute_result"
    },
    {
     "data": {
      "image/png": "[encoded data removed]",
      "text/plain": [
       "<Figure size 864x576 with 1 Axes>"
      ]
     },
     "metadata": {
      "needs_background": "light"
     },
     "output_type": "display_data"
    }
   ],
   "source": [
    "((df[((df['City_name']=='Gilgit') | (df['City_name']=='Sibi')) & (df['Range']=='low')])).plot.barh(x=\"City_name\", y=[\"June\", \"January\"], figsize=(12, 8))\n",
    "plt.xlabel(\"Temperature (celsius)\")\n",
    "plt.ylabel(\"City\")"
   ]
  },
  {
   "cell_type": "markdown",
   "metadata": {},
   "source": [
    "#### Scatter plot showing the different range of highest and lowest temperatures that exist in cities of Pakistan for the hottest month of the year (June)."
   ]
  },
  {
   "cell_type": "code",
   "execution_count": 388,
   "metadata": {},
   "outputs": [
    {
     "data": {
      "text/plain": [
       "Text(0, 0.5, 'Temperatures in June (celsius)')"
      ]
     },
     "execution_count": 388,
     "metadata": {},
     "output_type": "execute_result"
    },
    {
     "data": {
      "image/png": "[encoded data removed]",
      "text/plain": [
       "<Figure size 360x576 with 1 Axes>"
      ]
     },
     "metadata": {
      "needs_background": "light"
     },
     "output_type": "display_data"
    }
   ],
   "source": [
    "df.plot.scatter(x=\"Range\", y=\"June\", figsize=(5, 8))\n",
    "plt.ylabel(\"Temperatures in June (celsius)\")"
   ]
  },
  {
   "cell_type": "markdown",
   "metadata": {},
   "source": [
    "#### Bar graph comparing the highest temperature of a landlocked city (Lahore) and a city surrounded by the ocean (Karachi) for the hottest month (June) and the coldest month (January) of the year\n",
    "As expected, Lahore gets hotter during the summer but also gets cooler during the winter since it is landlocked."
   ]
  },
  {
   "cell_type": "code",
   "execution_count": 389,
   "metadata": {},
   "outputs": [
    {
     "data": {
      "text/plain": [
       "Text(0.5, 0, 'City')"
      ]
     },
     "execution_count": 389,
     "metadata": {},
     "output_type": "execute_result"
    },
    {
     "data": {
      "image/png": "[encoded data removed]",
      "text/plain": [
       "<Figure size 864x576 with 1 Axes>"
      ]
     },
     "metadata": {
      "needs_background": "light"
     },
     "output_type": "display_data"
    }
   ],
   "source": [
    "((df[((df['City_name']=='Karachi') | (df['City_name']=='Lahore')) & (df['Range']=='high')])).plot.bar(x=\"City_name\", y=[\"June\", \"January\"], figsize=(12, 8))\n",
    "plt.ylabel(\"Temperature (celsius)\")\n",
    "plt.xlabel(\"City\")"
   ]
  }
 ],
 "metadata": {
  "kernelspec": {
   "display_name": "Python 3",
   "language": "python",
   "name": "python3"
  },
  "language_info": {
   "codemirror_mode": {
    "name": "ipython",
    "version": 3
   },
   "file_extension": ".py",
   "mimetype": "text/x-python",
   "name": "python",
   "nbconvert_exporter": "python",
   "pygments_lexer": "ipython3",
   "version": "3.8.8"
  }
 },
 "nbformat": 4,
 "nbformat_minor": 4
}
